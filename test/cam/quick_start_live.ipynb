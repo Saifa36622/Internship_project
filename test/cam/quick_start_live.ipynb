{
 "cells": [
  {
   "cell_type": "markdown",
   "id": "6a9af650",
   "metadata": {
    "cell_style": "center"
   },
   "source": [
    "## Getting Started\n",
    "To prepare the LibRealSense Python environment, follow the steps below:\n",
    "\n",
    "- Download [PyCharm](https://www.jetbrains.com/pycharm/download/#section=windows) integrated development environment\n",
    "- Download [Python 3.7](https://www.python.org/downloads/release/python-3710/) or later \n",
    "- Download [get-pip.py](https://bootstrap.pypa.io/get-pip.py) and run the following commands in PyCharm terminal: \n",
    "    - ***python get-pip.py*** &emsp;&emsp;&emsp;&emsp;&nbsp;Pip tool to install Pip Python package\n",
    "    - ***pip install pyrealsense2*** &emsp;&nbsp;Intel RealSense cross-platform open-source API\n",
    "    - ***pip install numpy*** &emsp;&emsp;&emsp;&emsp;&nbsp;Fundamental package for scientific computing\n",
    "    - ***pip install matplotlib*** &emsp;&emsp;&ensp;&nbsp;2D plotting library producing publication quality figures\n",
    "    - ***pip install opencv-python***&nbsp;&nbsp;OpenCV packages for Python\n",
    "    <br> \n",
    "        some of these packages are not directly used here, but maybe useful in other examples\n"
   ]
  },
  {
   "cell_type": "markdown",
   "id": "810eceef",
   "metadata": {},
   "source": [
    "### This Demo is for users who have RealSense Depth camera. It is tested on Linux and Windows 10.\n",
    "- If you run on Linux, install [udev-rules](https://github.com/IntelRealSense/librealsense/blob/5ff27fca5aaeec4736d6bb3bfb958fee82ee198b/scripts/setup_udev_rules.sh)\n",
    "- No further installation needed if you run on Windows.\n",
    "\n",
    "### The demo will query sensors in the connected device, then it will display depth and color frames using Pipeline API.\n",
    "- Check that the connected device is detected in Device Manager.\n",
    "- The output from each code snippet can be seen under it. You can change the code and try different things and then press the play button to the left of each code snippet to run again. "
   ]
  },
  {
   "cell_type": "code",
   "execution_count": 16,
   "id": "a6650a3e",
   "metadata": {
    "scrolled": true
   },
   "outputs": [
    {
     "name": "stdout",
     "output_type": "stream",
     "text": [
      "Environment is Ready\n"
     ]
    }
   ],
   "source": [
    "import os\n",
    "import numpy as np                        # Fundamental package for scientific computing\n",
    "import matplotlib.pyplot as plt           # 2D plotting library producing publication quality figures\n",
    "from IPython.display import clear_output  # Clear the screen\n",
    "import pyrealsense2 as rs                 # Intel RealSense cross-platform open-source API\n",
    "print(\"Environment is Ready\")"
   ]
  },
  {
   "cell_type": "markdown",
   "id": "a4c0b23b",
   "metadata": {},
   "source": [
    "# Creating a Pipeline\n",
    "\n",
    "The pipeline is a high-level API for streaming and processing frames, abstracting camera configurations and simplifying user interaction with the device and computer vision processing modules. Config is a utility object used by a pipeline."
   ]
  },
  {
   "cell_type": "code",
   "execution_count": 17,
   "id": "71410211",
   "metadata": {},
   "outputs": [
    {
     "name": "stdout",
     "output_type": "stream",
     "text": [
      "Pipeline is created\n"
     ]
    }
   ],
   "source": [
    "pipe = rs.pipeline()                      # Create a pipeline\n",
    "cfg = rs.config()                         # Create a default configuration\n",
    "print(\"Pipeline is created\")"
   ]
  },
  {
   "cell_type": "markdown",
   "id": "40759664",
   "metadata": {},
   "source": [
    "## Find RealSense Devices"
   ]
  },
  {
   "cell_type": "code",
   "execution_count": 18,
   "id": "2dc23eb0",
   "metadata": {},
   "outputs": [
    {
     "name": "stdout",
     "output_type": "stream",
     "text": [
      "Searching Devices..\n",
      "No RealSense device is connected!\n"
     ]
    }
   ],
   "source": [
    "print(\"Searching Devices..\")\n",
    "selected_devices = []                     # Store connected device(s)\n",
    "\n",
    "for d in rs.context().devices:\n",
    "    selected_devices.append(d)\n",
    "    print(d.get_info(rs.camera_info.name))\n",
    "if not selected_devices:\n",
    "    print(\"No RealSense device is connected!\")"
   ]
  },
  {
   "cell_type": "markdown",
   "id": "bbea5e98",
   "metadata": {},
   "source": [
    "## Find Depth and RGB Sensors\n",
    "Only RGB and Depth sensors are relevant for this demo."
   ]
  },
  {
   "cell_type": "code",
   "execution_count": 19,
   "id": "464b266f",
   "metadata": {},
   "outputs": [],
   "source": [
    "rgb_sensor = depth_sensor = None\n",
    "\n",
    "for device in selected_devices:                         \n",
    "    print(\"Required sensors for device:\", device.get_info(rs.camera_info.name))\n",
    "    for s in device.sensors:                              # Show available sensors in each device\n",
    "        if s.get_info(rs.camera_info.name) == 'RGB Camera':\n",
    "            print(\" - RGB sensor found\")\n",
    "            rgb_sensor = s                                # Set RGB sensor\n",
    "        if s.get_info(rs.camera_info.name) == 'Stereo Module':\n",
    "            depth_sensor = s                              # Set Depth sensor\n",
    "            print(\" - Depth sensor found\")"
   ]
  },
  {
   "cell_type": "markdown",
   "id": "5b077114",
   "metadata": {},
   "source": [
    "## Displaying Depth and Color Frames"
   ]
  },
  {
   "cell_type": "code",
   "execution_count": 20,
   "id": "b5512f87",
   "metadata": {},
   "outputs": [
    {
     "ename": "RuntimeError",
     "evalue": "No device connected",
     "output_type": "error",
     "traceback": [
      "\u001b[0;31m---------------------------------------------------------------------------\u001b[0m",
      "\u001b[0;31mRuntimeError\u001b[0m                              Traceback (most recent call last)",
      "Cell \u001b[0;32mIn[20], line 2\u001b[0m\n\u001b[1;32m      1\u001b[0m colorizer \u001b[38;5;241m=\u001b[39m rs\u001b[38;5;241m.\u001b[39mcolorizer()                                \u001b[38;5;66;03m# Mapping depth data into RGB color space\u001b[39;00m\n\u001b[0;32m----> 2\u001b[0m profile \u001b[38;5;241m=\u001b[39m \u001b[43mpipe\u001b[49m\u001b[38;5;241;43m.\u001b[39;49m\u001b[43mstart\u001b[49m\u001b[43m(\u001b[49m\u001b[43mcfg\u001b[49m\u001b[43m)\u001b[49m                                 \u001b[38;5;66;03m# Configure and start the pipeline\u001b[39;00m\n\u001b[1;32m      4\u001b[0m fig, axs \u001b[38;5;241m=\u001b[39m plt\u001b[38;5;241m.\u001b[39msubplots(nrows\u001b[38;5;241m=\u001b[39m\u001b[38;5;241m1\u001b[39m, ncols\u001b[38;5;241m=\u001b[39m\u001b[38;5;241m2\u001b[39m, figsize\u001b[38;5;241m=\u001b[39m(\u001b[38;5;241m12\u001b[39m,\u001b[38;5;241m4\u001b[39m)) \u001b[38;5;66;03m# Show 1 row with 2 columns for Depth and RGB frames\u001b[39;00m\n\u001b[1;32m      5\u001b[0m title \u001b[38;5;241m=\u001b[39m [\u001b[38;5;124m\"\u001b[39m\u001b[38;5;124mDepth Image\u001b[39m\u001b[38;5;124m\"\u001b[39m, \u001b[38;5;124m\"\u001b[39m\u001b[38;5;124mRGB Image\u001b[39m\u001b[38;5;124m\"\u001b[39m]                      \u001b[38;5;66;03m# Title for each frame\u001b[39;00m\n",
      "\u001b[0;31mRuntimeError\u001b[0m: No device connected"
     ]
    }
   ],
   "source": [
    "colorizer = rs.colorizer()                                # Mapping depth data into RGB color space\n",
    "profile = pipe.start(cfg)                                 # Configure and start the pipeline\n",
    "\n",
    "fig, axs = plt.subplots(nrows=1, ncols=2, figsize=(12,4)) # Show 1 row with 2 columns for Depth and RGB frames\n",
    "title = [\"Depth Image\", \"RGB Image\"]                      # Title for each frame\n",
    "\n",
    "for _ in range(10):                                       # Skip first frames to give syncer and auto-exposure time to adjust\n",
    "    frameset = pipe.wait_for_frames()\n",
    "    \n",
    "for _ in range(5):                                        # Increase to display more frames\n",
    "    frameset = pipe.wait_for_frames()                     # Read frames from the file, packaged as a frameset\n",
    "    depth_frame = frameset.get_depth_frame()              # Get depth frame\n",
    "    color_frame = frameset.get_color_frame()              # Get RGB frame\n",
    "\n",
    "    colorized_streams = []                                # This is what we'll actually display\n",
    "    if depth_frame:\n",
    "        colorized_streams.append(np.asanyarray(colorizer.colorize(depth_frame).get_data()))\n",
    "    if color_frame:\n",
    "        colorized_streams.append(np.asanyarray(color_frame.get_data()))\n",
    "    \n",
    "    for i, ax in enumerate(axs.flatten()):                # Iterate over all (Depth and RGB) colorized frames\n",
    "        if i >= len(colorized_streams): continue          # When getting less frames than expected\n",
    "        plt.sca(ax)                                       # Set the current Axes and Figure\n",
    "        plt.imshow(colorized_streams[i])                  # colorized frame to display\n",
    "        plt.title(title[i])                               # Add title for each subplot\n",
    "    clear_output(wait=True)                               # Clear any previous frames from the display\n",
    "    plt.tight_layout()                                    # Adjusts display size to fit frames\n",
    "    plt.pause(1)                                          # Make the playback slower so it's noticeable\n",
    "    \n",
    "pipe.stop()                                               # Stop the pipeline\n",
    "print(\"Done!\")"
   ]
  }
 ],
 "metadata": {
  "kernelspec": {
   "display_name": "Python 3",
   "language": "python",
   "name": "python3"
  },
  "language_info": {
   "codemirror_mode": {
    "name": "ipython",
    "version": 3
   },
   "file_extension": ".py",
   "mimetype": "text/x-python",
   "name": "python",
   "nbconvert_exporter": "python",
   "pygments_lexer": "ipython3",
   "version": "3.10.12"
  }
 },
 "nbformat": 4,
 "nbformat_minor": 5
}
